{
 "cells": [
  {
   "cell_type": "code",
   "execution_count": 171,
   "metadata": {},
   "outputs": [],
   "source": [
    "import cvxpy as cp\n",
    "import numpy as np\n",
    "from numpy import linalg as LA\n",
    "import matplotlib.pyplot as plt\n",
    "from scipy.sparse import diags\n",
    "from scipy.linalg import hilbert\n",
    "import time"
   ]
  },
  {
   "cell_type": "code",
   "execution_count": 172,
   "metadata": {},
   "outputs": [],
   "source": [
    "plt.style.use(['dark_background'])"
   ]
  },
  {
   "cell_type": "markdown",
   "metadata": {},
   "source": [
    "# Q 9:"
   ]
  },
  {
   "cell_type": "code",
   "execution_count": 28,
   "metadata": {
    "collapsed": true
   },
   "outputs": [
    {
     "name": "stderr",
     "output_type": "stream",
     "text": [
      "C:\\Users\\sherw\\anaconda3\\envs\\pip\\lib\\site-packages\\cvxpy\\expressions\\expression.py:556: UserWarning: \n",
      "This use of ``*`` has resulted in matrix multiplication.\n",
      "Using ``*`` for matrix multiplication has been deprecated since CVXPY 1.1.\n",
      "    Use ``*`` for matrix-scalar and vector-scalar multiplication.\n",
      "    Use ``@`` for matrix-matrix and matrix-vector multiplication.\n",
      "    Use ``multiply`` for elementwise multiplication.\n",
      "This code path has been hit 9 times so far.\n",
      "\n",
      "  warnings.warn(msg, UserWarning)\n"
     ]
    },
    {
     "data": {
      "text/plain": [
       "17.323567853890694"
      ]
     },
     "execution_count": 28,
     "metadata": {},
     "output_type": "execute_result"
    }
   ],
   "source": [
    "A = np.array([[-1,0.4,0.8],[1,0,0],[0,1,0]])\n",
    "# A_ = np.array(A).reshape(3,1)\n",
    "b = np.array([1,0,0.3])\n",
    "b_ = np.array(b).reshape(3,1)\n",
    "x_des = np.array([7,2,-6])\n",
    "x_des_ = np.array(x_des).reshape(3,1)\n",
    "N = 30\n",
    "\n",
    "for i in range(N-1):\n",
    "    if i == 0:\n",
    "        H, temp = b_, b_\n",
    "    temp = np.dot(A,temp)\n",
    "    H = np.concatenate((temp,H),1)\n",
    "    \n",
    "t, u = cp.Variable(N), cp.Variable(N)\n",
    "prob = cp.Problem(cp.Minimize(np.ones(N)@t),[\n",
    "    u <= t,\n",
    "    -u <= t,\n",
    "    u <= 0.5 * (t+1),\n",
    "    -u <= 0.5 * (t+1),\n",
    "    H * u == x_des\n",
    "])\n",
    "prob.solve()\n"
   ]
  },
  {
   "cell_type": "code",
   "execution_count": 22,
   "metadata": {},
   "outputs": [
    {
     "name": "stdout",
     "output_type": "stream",
     "text": [
      "optimal value is as follows:\n",
      "17.323567853890694\n",
      " optimal point is as follows:\n",
      "[-3.58589859e-11 -3.06073695e-11  1.25789129e-09  1.00000000e+00\n",
      "  1.00000000e+00  1.00000000e+00  6.17798481e-12 -4.16078206e-11\n",
      " -2.62306116e-12  1.00000000e+00  1.00000000e+00  1.00000000e+00\n",
      "  2.46624155e-01 -3.14831421e-11 -3.90765007e-11  1.01410960e-10\n",
      "  1.00000000e+00  1.00000000e+00  1.00000000e+00  8.25374829e-11\n",
      " -4.16082163e-11 -3.53429556e-11  1.00000000e+00  6.98881473e-01\n",
      "  1.00000000e+00 -8.80602338e-12  1.36527074e-09  1.56960048e-11\n",
      " -4.57250850e-11  5.37806222e+00]\n"
     ]
    }
   ],
   "source": [
    "print(f'optimal value is as follows:\\n{prob.value}\\n'\\\n",
    "      ,f'optimal point is as follows:\\n{t.value}')"
   ]
  },
  {
   "cell_type": "code",
   "execution_count": 23,
   "metadata": {},
   "outputs": [
    {
     "data": {
      "image/png": "[encoded data removed]",
      "text/plain": [
       "<Figure size 432x288 with 1 Axes>"
      ]
     },
     "metadata": {},
     "output_type": "display_data"
    }
   ],
   "source": [
    "plt.step(np.linspace(0, N-1, N), u.value,c = 'dodgerblue')\n",
    "plt.xlabel('t',size = 20)\n",
    "plt.ylabel('u(t)',size = 20)\n",
    "\n",
    "plt.show()"
   ]
  },
  {
   "cell_type": "markdown",
   "metadata": {},
   "source": [
    "# Q 10:"
   ]
  },
  {
   "cell_type": "code",
   "execution_count": 318,
   "metadata": {},
   "outputs": [],
   "source": [
    "def A_mat(n, i, eps = 0):\n",
    "    if i == 1:\n",
    "        return diags([-1, 4, -1], [-1, 0, 1], shape=(n, n)).toarray() + eps\n",
    "    if i == 2:\n",
    "        return hilbert(n) + eps\n",
    "\n",
    "def con_grad(n, i, eps = 0):\n",
    "    t1 = time.time()\n",
    "    x = np.zeros(n)\n",
    "    b = np.ones(n)\n",
    "    A = A_mat(n,i,eps)\n",
    "    r = A @ x - b\n",
    "    p = -r\n",
    "    rsold = r.T @ r\n",
    "    \n",
    "    for iterr in range(len(b)):\n",
    "        Ap = A @ p\n",
    "        alpha = rsold / (p.T @ Ap)\n",
    "        x = x + (alpha * p)\n",
    "        r = r + (alpha * Ap)\n",
    "        rsnew = r.T @ r\n",
    "        if np.sqrt(rsnew) < 1e-8:\n",
    "            break\n",
    "        p = -r + (rsnew/rsold)*p\n",
    "        rsold = rsnew\n",
    "    res = LA.norm(A@x-b)\n",
    "    t2 = time.time()\n",
    "    t = t2-t1\n",
    "    return x, res, t"
   ]
  },
  {
   "cell_type": "markdown",
   "metadata": {},
   "source": [
    "# a:"
   ]
  },
  {
   "cell_type": "code",
   "execution_count": 326,
   "metadata": {},
   "outputs": [
    {
     "name": "stdout",
     "output_type": "stream",
     "text": [
      "Part 'A':\n",
      "\n",
      "i = 1 & n = 100:\n",
      "|Ax - b| l2-norm = 0.00000\n",
      "execution time = 0.0030\n",
      "\n",
      "i = 1 & n = 400:\n",
      "|Ax - b| l2-norm = 0.00000\n",
      "execution time = 0.0020\n",
      "\n",
      "i = 1 & n = 1600:\n",
      "|Ax - b| l2-norm = 0.00000\n",
      "execution time = 0.0239\n",
      "\n",
      "i = 2 & n = 100:\n",
      "|Ax - b| l2-norm = 0.11533\n",
      "execution time = 0.0090\n",
      "\n",
      "i = 2 & n = 400:\n",
      "|Ax - b| l2-norm = 0.00185\n",
      "execution time = 0.0229\n",
      "\n",
      "i = 2 & n = 1600:\n",
      "|Ax - b| l2-norm = 0.06461\n",
      "execution time = 0.7321\n"
     ]
    }
   ],
   "source": [
    "# Part A\n",
    "\n",
    "N = [100, 400, 1600]\n",
    "I = [1, 2]\n",
    "xss = []\n",
    "print('Part \\'A\\':')\n",
    "\n",
    "for i in I:\n",
    "  for n in N:\n",
    "    xs, res, exec_time = con_grad(n, i)\n",
    "    xss.append(xs)\n",
    "    print(f\"\\ni = {i} & n = {n}:\")\n",
    "    print(f\"|Ax - b| l2-norm = {res:.5f}\")\n",
    "    print(f\"execution time = {exec_time:.4f}\")"
   ]
  },
  {
   "cell_type": "markdown",
   "metadata": {},
   "source": [
    "# b:"
   ]
  },
  {
   "cell_type": "code",
   "execution_count": 327,
   "metadata": {},
   "outputs": [
    {
     "name": "stdout",
     "output_type": "stream",
     "text": [
      "\n",
      "Part 'B':\n",
      "\n",
      "i = 1 & n = 100:\n",
      "|Ax - b| l2-norm = 0.00000\n",
      "|A - A_hat| l2-norm = 0.0001\n",
      "|xs - xs_hat| l2-norm = 0.00025\n",
      "execution time = 0.0040\n",
      "\n",
      "i = 1 & n = 400:\n",
      "|Ax - b| l2-norm = 0.00000\n",
      "|A - A_hat| l2-norm = 0.0004\n",
      "|xs - xs_hat| l2-norm = 0.00199\n",
      "execution time = 0.0020\n",
      "\n",
      "i = 1 & n = 1600:\n",
      "|Ax - b| l2-norm = 0.00000\n",
      "|A - A_hat| l2-norm = 0.0016\n",
      "|xs - xs_hat| l2-norm = 0.01597\n",
      "execution time = 0.0244\n",
      "\n",
      "i = 2 & n = 100:\n",
      "|Ax - b| l2-norm = 0.05469\n",
      "|A - A_hat| l2-norm = 0.0001\n",
      "|xs - xs_hat| l2-norm = 8922.29148\n",
      "execution time = 0.0098\n",
      "\n",
      "i = 2 & n = 400:\n",
      "|Ax - b| l2-norm = 0.00408\n",
      "|A - A_hat| l2-norm = 0.0004\n",
      "|xs - xs_hat| l2-norm = 97108.95613\n",
      "execution time = 0.0229\n",
      "\n",
      "i = 2 & n = 1600:\n",
      "|Ax - b| l2-norm = 0.09942\n",
      "|A - A_hat| l2-norm = 0.0016\n",
      "|xs - xs_hat| l2-norm = 12624251.49666\n",
      "execution time = 0.7162\n"
     ]
    }
   ],
   "source": [
    "# Part B\n",
    "\n",
    "eps = 1e-6 \n",
    "xshats = []\n",
    "print('\\nPart \\'B\\':')\n",
    "counter = 0\n",
    "\n",
    "for i in I:\n",
    "    for n in N:\n",
    "        xshat, res, exec_time = con_grad(n, i, eps)\n",
    "        xshats.append(xshat)\n",
    "        print(f\"\\ni = {i} & n = {n}:\")\n",
    "        print(f\"|Ax - b| l2-norm = {res:.5f}\")\n",
    "        n_A = n*eps\n",
    "        print(f\"|A - A_hat| l2-norm = {n_A:.4f}\")\n",
    "        n_x = LA.norm(xss[counter] - xshats[counter])\n",
    "        print(f\"|xs - xs_hat| l2-norm = {n_x:.5f}\")\n",
    "        print(f\"execution time = {exec_time:.4f}\")\n",
    "        counter += 1"
   ]
  }
 ],
 "metadata": {
  "kernelspec": {
   "display_name": "pip",
   "language": "python",
   "name": "pip"
  },
  "language_info": {
   "codemirror_mode": {
    "name": "ipython",
    "version": 3
   },
   "file_extension": ".py",
   "mimetype": "text/x-python",
   "name": "python",
   "nbconvert_exporter": "python",
   "pygments_lexer": "ipython3",
   "version": "3.8.5"
  }
 },
 "nbformat": 4,
 "nbformat_minor": 4
}

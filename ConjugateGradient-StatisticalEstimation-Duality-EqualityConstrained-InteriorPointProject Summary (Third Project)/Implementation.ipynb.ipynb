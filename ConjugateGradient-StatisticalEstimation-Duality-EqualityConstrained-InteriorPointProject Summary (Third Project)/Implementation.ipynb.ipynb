{
 "cells": [
  {
   "cell_type": "code",
   "execution_count": 7,
   "metadata": {},
   "outputs": [],
   "source": [
    "import numpy as np\n",
    "from scipy import linalg as la\n",
    "import cvxpy as cp"
   ]
  },
  {
   "cell_type": "markdown",
   "metadata": {},
   "source": [
    "# Data Generation:"
   ]
  },
  {
   "cell_type": "code",
   "execution_count": 445,
   "metadata": {},
   "outputs": [],
   "source": [
    "#dataset1\n",
    "miu_coef = 10\n",
    "cov1_coef = 10\n",
    "cov2_coef = 10\n",
    "miu1 = miu_coef*np.random.random(2)\n",
    "# cov1 = 100*np.identity(2)\n",
    "temp1 = np.random.random((2,2))\n",
    "cov1 = cov1_coef*temp1.dot(temp1.T)\n",
    "data1 = np.random.multivariate_normal(miu1, cov1, 150)\n",
    "\n",
    "#dataset2\n",
    "miu2 = miu_coef*np.random.random(2)\n",
    "# cov2 = 100*np.identity(2)\n",
    "temp2 = np.random.random((2,2))\n",
    "cov2 = cov2_coef*temp2.dot(temp2.T)\n",
    "data2 = np.random.multivariate_normal(miu2, cov2, 150)"
   ]
  },
  {
   "cell_type": "code",
   "execution_count": 446,
   "metadata": {},
   "outputs": [
    {
     "name": "stdout",
     "output_type": "stream",
     "text": [
      "Dataset 1:\n",
      "   mean: [8.48  2.646]\n",
      "   covariance: \n",
      "[[ 7.567  5.387]\n",
      " [ 5.387 10.206]]\n",
      "\n",
      "\n",
      "Dataset 2:\n",
      "   mean: [8.38  0.649]\n",
      "   covariance: \n",
      "[[2.605 3.338]\n",
      " [3.338 4.297]]\n"
     ]
    }
   ],
   "source": [
    "np.set_printoptions(precision=3)\n",
    "\n",
    "print(f'Dataset 1:\\n   mean: {miu1}\\n   covariance: \\n{cov1}\\n\\n\\n\\\n",
    "Dataset 2:\\n   mean: {miu2}\\n   covariance: \\n{cov2}')"
   ]
  },
  {
   "cell_type": "markdown",
   "metadata": {},
   "source": [
    "# Optimization Problem:"
   ]
  },
  {
   "cell_type": "code",
   "execution_count": 447,
   "metadata": {},
   "outputs": [
    {
     "name": "stdout",
     "output_type": "stream",
     "text": [
      "0.00000014\n"
     ]
    }
   ],
   "source": [
    "X, Y, Z = data1, data2, data1 - data2\n",
    "d = np.sqrt(np.sum(Z**2,axis = 1))\n",
    "n = 2\n",
    "# Z = X - Y\n",
    "P = cvx.Variable((n,n), PSD=True)\n",
    "f = 0\n",
    "N = 150\n",
    "for i in range(N):\n",
    "    f += d[i]**2\n",
    "    f += -2*d[i]*cvx.sqrt(cvx.quad_form(Z[i,:],P))\n",
    "    f += cvx.quad_form(Z[i,:],P)\n",
    "prob = cvx.Problem(cvx.Minimize(f/N),[P == P.T])\n",
    "train_error = prob.solve()\n",
    "print(f'{train_error:.8f}')\n"
   ]
  },
  {
   "cell_type": "code",
   "execution_count": 449,
   "metadata": {},
   "outputs": [
    {
     "name": "stdout",
     "output_type": "stream",
     "text": [
      "P matrix:\n",
      "[[1. 0.]\n",
      " [0. 1.]]\n",
      "\n",
      "latest error:\n",
      "0.00000014\n",
      "\n",
      "covariance coefficient of dataset 2:\n",
      "10\n"
     ]
    }
   ],
   "source": [
    "print(f'P matrix:\\n{P.value}\\n\\nlatest error:\\n{train_error:.8f}\\n\\ncovariance coefficient of dataset 2:\\n{cov2_coef}')"
   ]
  },
  {
   "cell_type": "markdown",
   "metadata": {},
   "source": [
    "# Relation Evaluation:"
   ]
  },
  {
   "cell_type": "code",
   "execution_count": 480,
   "metadata": {},
   "outputs": [],
   "source": [
    "coef = 1\n",
    "temp1 = cov1*coef/10\n",
    "temp2 = cov1*coef/10"
   ]
  },
  {
   "cell_type": "code",
   "execution_count": 481,
   "metadata": {},
   "outputs": [],
   "source": [
    "data1 = np.random.multivariate_normal(miu1, temp1, 150)\n",
    "data2 = np.random.multivariate_normal(miu2, temp2, 150)"
   ]
  },
  {
   "cell_type": "code",
   "execution_count": 482,
   "metadata": {},
   "outputs": [
    {
     "name": "stdout",
     "output_type": "stream",
     "text": [
      "0.00000006\n",
      "P matrix:\n",
      "[[ 1. -0.]\n",
      " [-0.  1.]]\n",
      "\n",
      "latest error:\n",
      "0.00000006\n",
      "\n",
      "covariance coefficient of datasets:\n",
      "0.1\n"
     ]
    }
   ],
   "source": [
    "X, Y, Z = data1, data2, data1 - data2\n",
    "d = np.sqrt(np.sum(Z**2,axis = 1))\n",
    "n = 2\n",
    "# Z = X - Y\n",
    "P = cvx.Variable((n,n), PSD=True)\n",
    "f = 0\n",
    "N = 150\n",
    "for i in range(N):\n",
    "    f += d[i]**2\n",
    "    f += -2*d[i]*cvx.sqrt(cvx.quad_form(Z[i,:],P))\n",
    "    f += cvx.quad_form(Z[i,:],P)\n",
    "prob = cvx.Problem(cvx.Minimize(f/N),[P == P.T])\n",
    "train_error = prob.solve()\n",
    "print(f'{train_error:.8f}')\n",
    "\n",
    "\n",
    "print(f'P matrix:\\n{P.value}\\n\\nlatest error:\\n{train_error:.8f}\\n\\ncovariance coefficient of datasets:\\n{coef/10}')"
   ]
  },
  {
   "cell_type": "code",
   "execution_count": 477,
   "metadata": {},
   "outputs": [],
   "source": [
    "coef = 100\n",
    "temp1 = cov1*coef/10\n",
    "temp2 = cov1*coef/10"
   ]
  },
  {
   "cell_type": "code",
   "execution_count": 478,
   "metadata": {},
   "outputs": [],
   "source": [
    "data1 = np.random.multivariate_normal(miu1, temp1, 150)\n",
    "data2 = np.random.multivariate_normal(miu2, temp2, 150)"
   ]
  },
  {
   "cell_type": "code",
   "execution_count": 479,
   "metadata": {},
   "outputs": [
    {
     "name": "stdout",
     "output_type": "stream",
     "text": [
      "1.09888963\n",
      "P matrix:\n",
      "[[0.892 0.205]\n",
      " [0.205 0.883]]\n",
      "\n",
      "latest error:\n",
      "1.09888963\n",
      "\n",
      "covariance coefficient of datasets:\n",
      "10.0\n"
     ]
    }
   ],
   "source": [
    "X, Y, Z = data1, data2, data1 - data2\n",
    "d = np.sqrt(np.sum(Z**2,axis = 1))\n",
    "n = 2\n",
    "# Z = X - Y\n",
    "P = cvx.Variable((n,n), PSD=True)\n",
    "f = 0\n",
    "N = 150\n",
    "for i in range(N):\n",
    "    f += d[i]**2\n",
    "    f += -2*d[i]*cvx.sqrt(cvx.quad_form(Z[i,:],P))\n",
    "    f += cvx.quad_form(Z[i,:],P)\n",
    "prob = cvx.Problem(cvx.Minimize(f/N),[P == P.T])\n",
    "train_error = prob.solve()\n",
    "print(f'{train_error:.8f}')\n",
    "\n",
    "\n",
    "print(f'P matrix:\\n{P.value}\\n\\nlatest error:\\n{train_error:.8f}\\n\\ncovariance coefficient of datasets:\\n{coef/10}')"
   ]
  },
  {
   "cell_type": "code",
   "execution_count": 472,
   "metadata": {},
   "outputs": [],
   "source": [
    "coef = 1000\n",
    "temp1 = cov1*coef/10\n",
    "temp2 = cov1*coef/10"
   ]
  },
  {
   "cell_type": "code",
   "execution_count": 473,
   "metadata": {},
   "outputs": [],
   "source": [
    "data1 = np.random.multivariate_normal(miu1, temp1, 150)\n",
    "data2 = np.random.multivariate_normal(miu2, temp2, 150)"
   ]
  },
  {
   "cell_type": "code",
   "execution_count": 475,
   "metadata": {},
   "outputs": [
    {
     "name": "stdout",
     "output_type": "stream",
     "text": [
      "259.98231796\n",
      "P matrix:\n",
      "[[0.418 0.191]\n",
      " [0.191 0.49 ]]\n",
      "\n",
      "latest error:\n",
      "259.98231796\n",
      "\n",
      "covariance coefficient of datasets:\n",
      "100.0\n"
     ]
    }
   ],
   "source": [
    "X, Y, Z = data1, data2, data1 - data2\n",
    "d = np.sqrt(np.sum(Z**2,axis = 1))\n",
    "n = 2\n",
    "# Z = X - Y\n",
    "P = cvx.Variable((n,n), PSD=True)\n",
    "f = 0\n",
    "N = 150\n",
    "for i in range(N):\n",
    "    f += d[i]**2\n",
    "    f += -2*d[i]*cvx.sqrt(cvx.quad_form(Z[i,:],P))\n",
    "    f += cvx.quad_form(Z[i,:],P)\n",
    "prob = cvx.Problem(cvx.Minimize(f/N),[P == P.T])\n",
    "train_error = prob.solve()\n",
    "print(f'{train_error:.8f}')\n",
    "\n",
    "\n",
    "print(f'P matrix:\\n{P.value}\\n\\nlatest error:\\n{train_error:.8f}\\n\\ncovariance coefficient of datasets:\\n{coef/10}')"
   ]
  }
 ],
 "metadata": {
  "kernelspec": {
   "display_name": "pip",
   "language": "python",
   "name": "pip"
  },
  "language_info": {
   "codemirror_mode": {
    "name": "ipython",
    "version": 3
   },
   "file_extension": ".py",
   "mimetype": "text/x-python",
   "name": "python",
   "nbconvert_exporter": "python",
   "pygments_lexer": "ipython3",
   "version": "3.8.5"
  }
 },
 "nbformat": 4,
 "nbformat_minor": 4
}

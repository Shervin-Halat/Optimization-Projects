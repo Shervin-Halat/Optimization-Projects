{
 "cells": [
  {
   "cell_type": "code",
   "execution_count": 60,
   "metadata": {},
   "outputs": [
    {
     "name": "stdout",
     "output_type": "stream",
     "text": [
      "     pcost       dcost       gap    pres   dres   k/t\n",
      " 0:  1.0000e+00  1.0000e+00  4e+00  6e-01  2e-16  1e+00\n",
      " 1:  1.6732e+00  1.6745e+00  4e-01  5e-02  2e-16  9e-02\n",
      " 2:  1.9479e+00  1.9535e+00  2e-01  3e-02  3e-16  5e-02\n",
      " 3:  1.9994e+00  1.9995e+00  2e-03  3e-04  5e-16  6e-04\n",
      " 4:  2.0000e+00  2.0000e+00  2e-05  3e-06  2e-16  6e-06\n",
      " 5:  2.0000e+00  2.0000e+00  2e-07  3e-08  4e-17  6e-08\n",
      "Optimal solution found.\n",
      "\n",
      "optimal point x1: 2.0000000179532713\n",
      "optimal point x2 : -2.5668771769383607e-08\n",
      "optimal value function: 1.999999940946956\n"
     ]
    }
   ],
   "source": [
    "from cvxopt import matrix, solvers\n",
    "\n",
    "A = matrix([ [-1.0, -1.0, 0.0, 2.0], [1.0, -1.0, -1.0, -3.0] ])\n",
    "b = matrix([ 2.0, -2.0, 0.0, 5.0 ])\n",
    "c = matrix([ 1.0, 3.0 ])\n",
    "\n",
    "sol = solvers.lp(c,A,b )\n",
    "print(f\"\\noptimal point x1: {sol['x'][0]}\\noptimal point x2 : {sol['x'][1]}\")\n",
    "x1_opt, x2_opt = sol['x']\n",
    "opt_val_fun = x1_opt + 3*x2_opt\n",
    "print(f\"optimal value function: {opt_val_fun}\" )\n",
    "\n"
   ]
  }
 ],
 "metadata": {
  "kernelspec": {
   "display_name": "pip",
   "language": "python",
   "name": "pip"
  },
  "language_info": {
   "codemirror_mode": {
    "name": "ipython",
    "version": 3
   },
   "file_extension": ".py",
   "mimetype": "text/x-python",
   "name": "python",
   "nbconvert_exporter": "python",
   "pygments_lexer": "ipython3",
   "version": "3.8.5"
  }
 },
 "nbformat": 4,
 "nbformat_minor": 4
}
